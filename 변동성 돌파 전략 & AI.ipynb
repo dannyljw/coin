{
 "cells": [
  {
   "cell_type": "code",
   "execution_count": 1,
   "id": "013d2c50",
   "metadata": {
    "ExecuteTime": {
     "end_time": "2022-02-03T06:59:29.440624Z",
     "start_time": "2022-02-03T06:59:27.040516Z"
    }
   },
   "outputs": [
    {
     "ename": "ModuleNotFoundError",
     "evalue": "No module named 'fbprophet'",
     "output_type": "error",
     "traceback": [
      "\u001b[0;31m---------------------------------------------------------------------------\u001b[0m",
      "\u001b[0;31mModuleNotFoundError\u001b[0m                       Traceback (most recent call last)",
      "Input \u001b[0;32mIn [1]\u001b[0m, in \u001b[0;36m<module>\u001b[0;34m\u001b[0m\n\u001b[1;32m      3\u001b[0m \u001b[38;5;28;01mimport\u001b[39;00m \u001b[38;5;21;01mdatetime\u001b[39;00m\n\u001b[1;32m      4\u001b[0m \u001b[38;5;28;01mimport\u001b[39;00m \u001b[38;5;21;01mschedule\u001b[39;00m\n\u001b[0;32m----> 5\u001b[0m \u001b[38;5;28;01mfrom\u001b[39;00m \u001b[38;5;21;01mfbprophet\u001b[39;00m \u001b[38;5;28;01mimport\u001b[39;00m Prophet\n\u001b[1;32m      7\u001b[0m access \u001b[38;5;241m=\u001b[39m \u001b[38;5;124m\"\u001b[39m\u001b[38;5;124myour-access\u001b[39m\u001b[38;5;124m\"\u001b[39m\n\u001b[1;32m      8\u001b[0m secret \u001b[38;5;241m=\u001b[39m \u001b[38;5;124m\"\u001b[39m\u001b[38;5;124myour-secret\u001b[39m\u001b[38;5;124m\"\u001b[39m\n",
      "\u001b[0;31mModuleNotFoundError\u001b[0m: No module named 'fbprophet'"
     ]
    }
   ],
   "source": [
    "import time\n",
    "import pyupbit\n",
    "import datetime\n",
    "import schedule\n",
    "from fbprophet import Prophet\n",
    "\n",
    "access = \"your-access\"\n",
    "secret = \"your-secret\"\n",
    "\n",
    "def get_target_price(ticker, k):\n",
    "    \"\"\"변동성 돌파 전략으로 매수 목표가 조회\"\"\"\n",
    "    df = pyupbit.get_ohlcv(ticker, interval=\"day\", count=2)\n",
    "    target_price = df.iloc[0]['close'] + (df.iloc[0]['high'] - df.iloc[0]['low']) * k\n",
    "    return target_price\n",
    "\n",
    "def get_start_time(ticker):\n",
    "    \"\"\"시작 시간 조회\"\"\"\n",
    "    df = pyupbit.get_ohlcv(ticker, interval=\"day\", count=1)\n",
    "    start_time = df.index[0]\n",
    "    return start_time\n",
    "\n",
    "def get_balance(ticker):\n",
    "    \"\"\"잔고 조회\"\"\"\n",
    "    balances = upbit.get_balances()\n",
    "    for b in balances:\n",
    "        if b['currency'] == ticker:\n",
    "            if b['balance'] is not None:\n",
    "                return float(b['balance'])\n",
    "            else:\n",
    "                return 0\n",
    "    return 0\n",
    "\n",
    "def get_current_price(ticker):\n",
    "    \"\"\"현재가 조회\"\"\"\n",
    "    return pyupbit.get_orderbook(ticker=ticker)[\"orderbook_units\"][0][\"ask_price\"]\n",
    "\n",
    "predicted_close_price = 0\n",
    "def predict_price(ticker):\n",
    "    \"\"\"Prophet으로 당일 종가 가격 예측\"\"\"\n",
    "    global predicted_close_price\n",
    "    df = pyupbit.get_ohlcv(ticker, interval=\"minute60\")\n",
    "    df = df.reset_index()\n",
    "    df['ds'] = df['index']\n",
    "    df['y'] = df['close']\n",
    "    data = df[['ds','y']]\n",
    "    model = Prophet()\n",
    "    model.fit(data)\n",
    "    future = model.make_future_dataframe(periods=24, freq='H')\n",
    "    forecast = model.predict(future)\n",
    "    closeDf = forecast[forecast['ds'] == forecast.iloc[-1]['ds'].replace(hour=9)]\n",
    "    if len(closeDf) == 0:\n",
    "        closeDf = forecast[forecast['ds'] == data.iloc[-1]['ds'].replace(hour=9)]\n",
    "    closeValue = closeDf['yhat'].values[0]\n",
    "    predicted_close_price = closeValue\n",
    "predict_price(\"KRW-BTC\")\n",
    "schedule.every().hour.do(lambda: predict_price(\"KRW-BTC\"))\n",
    "\n",
    "# 로그인\n",
    "upbit = pyupbit.Upbit(access, secret)\n",
    "print(\"autotrade start\")\n",
    "\n",
    "# 자동매매 시작\n",
    "while True:\n",
    "    try:\n",
    "        now = datetime.datetime.now()\n",
    "        start_time = get_start_time(\"KRW-BTC\")\n",
    "        end_time = start_time + datetime.timedelta(days=1)\n",
    "        schedule.run_pending()\n",
    "\n",
    "        if start_time < now < end_time - datetime.timedelta(seconds=10):\n",
    "            target_price = get_target_price(\"KRW-BTC\", 0.5)\n",
    "            current_price = get_current_price(\"KRW-BTC\")\n",
    "            if target_price < current_price and current_price < predicted_close_price:\n",
    "                krw = get_balance(\"KRW\")\n",
    "                if krw > 5000:\n",
    "                    upbit.buy_market_order(\"KRW-BTC\", krw*0.9995)\n",
    "        else:\n",
    "            btc = get_balance(\"BTC\")\n",
    "            if btc > 0.00008:\n",
    "                upbit.sell_market_order(\"KRW-BTC\", btc*0.9995)\n",
    "        time.sleep(1)\n",
    "    except Exception as e:\n",
    "        print(e)\n",
    "        time.sleep(1)"
   ]
  },
  {
   "cell_type": "code",
   "execution_count": null,
   "id": "a97872cd",
   "metadata": {},
   "outputs": [],
   "source": []
  }
 ],
 "metadata": {
  "kernelspec": {
   "display_name": "Python 3 (ipykernel)",
   "language": "python",
   "name": "python3"
  },
  "language_info": {
   "codemirror_mode": {
    "name": "ipython",
    "version": 3
   },
   "file_extension": ".py",
   "mimetype": "text/x-python",
   "name": "python",
   "nbconvert_exporter": "python",
   "pygments_lexer": "ipython3",
   "version": "3.9.9"
  },
  "toc": {
   "base_numbering": 1,
   "nav_menu": {},
   "number_sections": true,
   "sideBar": true,
   "skip_h1_title": false,
   "title_cell": "Table of Contents",
   "title_sidebar": "Contents",
   "toc_cell": false,
   "toc_position": {},
   "toc_section_display": true,
   "toc_window_display": false
  }
 },
 "nbformat": 4,
 "nbformat_minor": 5
}
