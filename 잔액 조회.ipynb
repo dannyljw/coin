{
 "cells": [
  {
   "cell_type": "code",
   "execution_count": 1,
   "id": "dfcbfd09",
   "metadata": {
    "ExecuteTime": {
     "end_time": "2022-02-03T05:21:39.961857Z",
     "start_time": "2022-02-03T05:21:29.293837Z"
    }
   },
   "outputs": [],
   "source": [
    "import pyupbit\n"
   ]
  },
  {
   "cell_type": "markdown",
   "id": "0f4ec9d4",
   "metadata": {},
   "source": [
    "# 잔액 조회"
   ]
  },
  {
   "cell_type": "code",
   "execution_count": 3,
   "id": "ee6eb43b",
   "metadata": {
    "ExecuteTime": {
     "end_time": "2022-02-03T05:27:07.845230Z",
     "start_time": "2022-02-03T05:27:07.839534Z"
    }
   },
   "outputs": [],
   "source": [
    "access = \"vLfBdHKFSkK7Vm5z3ZEwKEx3d7H7nrL3pC3xiOYr\"          # 본인 값으로 변경\n",
    "secret = \"0OYOPMYOGnaYEVC9fSM5OWZ4LCU3AlTZQxFt9t6z\"          # 본인 값으로 변경\n",
    "upbit = pyupbit.Upbit(access, secret)"
   ]
  },
  {
   "cell_type": "code",
   "execution_count": 4,
   "id": "baef9f6e",
   "metadata": {
    "ExecuteTime": {
     "end_time": "2022-02-03T05:27:18.215973Z",
     "start_time": "2022-02-03T05:27:17.966482Z"
    }
   },
   "outputs": [
    {
     "name": "stdout",
     "output_type": "stream",
     "text": [
      "0\n",
      "352457.06965757\n"
     ]
    }
   ],
   "source": [
    "print(upbit.get_balance(\"KRW-XRP\"))     # KRW-XRP 조회 -XRP 는 리플이라는 것의 양이 0 이라는의미이다. \n",
    "print(upbit.get_balance(\"KRW\"))         # 보유 현금 조회 - 원화가 얼마있느닞 알려주느 것이다. \n",
    " "
   ]
  },
  {
   "cell_type": "code",
   "execution_count": null,
   "id": "1ffef36b",
   "metadata": {},
   "outputs": [],
   "source": []
  }
 ],
 "metadata": {
  "kernelspec": {
   "display_name": "Python 3 (ipykernel)",
   "language": "python",
   "name": "python3"
  },
  "language_info": {
   "codemirror_mode": {
    "name": "ipython",
    "version": 3
   },
   "file_extension": ".py",
   "mimetype": "text/x-python",
   "name": "python",
   "nbconvert_exporter": "python",
   "pygments_lexer": "ipython3",
   "version": "3.9.9"
  },
  "toc": {
   "base_numbering": 1,
   "nav_menu": {},
   "number_sections": true,
   "sideBar": true,
   "skip_h1_title": false,
   "title_cell": "Table of Contents",
   "title_sidebar": "Contents",
   "toc_cell": false,
   "toc_position": {},
   "toc_section_display": true,
   "toc_window_display": false
  }
 },
 "nbformat": 4,
 "nbformat_minor": 5
}
