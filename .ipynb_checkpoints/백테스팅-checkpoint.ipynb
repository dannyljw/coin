{
 "cells": [
  {
   "cell_type": "markdown",
   "id": "866e1cb6",
   "metadata": {},
   "source": [
    "# 변동성 돌파 전략\n",
    "\n",
    "어제의 고가와 저가의 차이인 변동폭에서 k 배만큼 상승이 일어났을 때\n",
    "\n",
    "매수를 진행하는 것이다. "
   ]
  },
  {
   "cell_type": "code",
   "execution_count": 12,
   "id": "eeb20739",
   "metadata": {
    "ExecuteTime": {
     "end_time": "2022-02-03T05:46:39.555636Z",
     "start_time": "2022-02-03T05:46:39.426842Z"
    }
   },
   "outputs": [
    {
     "name": "stdout",
     "output_type": "stream",
     "text": [
      "MDD(%):  5.9671179883945875\n",
      "                       open    high     low   close        volume  \\\n",
      "2022-01-28 09:00:00  1165.0  1280.0  1140.0  1275.0  1.413374e+08   \n",
      "2022-01-29 09:00:00  1280.0  1310.0  1235.0  1285.0  9.285003e+07   \n",
      "2022-01-30 09:00:00  1285.0  1290.0  1235.0  1265.0  4.441072e+07   \n",
      "2022-01-31 09:00:00  1265.0  1295.0  1160.0  1280.0  7.614714e+07   \n",
      "2022-02-01 09:00:00  1280.0  1320.0  1255.0  1285.0  5.615830e+07   \n",
      "2022-02-02 09:00:00  1285.0  1315.0  1205.0  1220.0  6.537074e+07   \n",
      "2022-02-03 09:00:00  1220.0  1270.0  1205.0  1250.0  3.698364e+07   \n",
      "\n",
      "                            value  range  target       ror       hpr        dd  \n",
      "2022-01-28 09:00:00  1.728630e+11   70.0     NaN  1.000000  1.000000  0.000000  \n",
      "2022-01-29 09:00:00  1.185821e+11   37.5  1350.0  1.000000  1.000000  0.000000  \n",
      "2022-01-30 09:00:00  5.606732e+10   27.5  1322.5  1.000000  1.000000  0.000000  \n",
      "2022-01-31 09:00:00  9.211981e+10   67.5  1292.5  0.940329  0.940329  5.967118  \n",
      "2022-02-01 09:00:00  7.205892e+10   32.5  1347.5  1.000000  0.940329  5.967118  \n",
      "2022-02-02 09:00:00  8.230381e+10   55.0  1317.5  1.000000  0.940329  5.967118  \n",
      "2022-02-03 09:00:00  4.577813e+10   32.5  1275.0  1.000000  0.940329  5.967118  \n"
     ]
    }
   ],
   "source": [
    "import pyupbit\n",
    "import numpy as np\n",
    "\n",
    "# count =7 은 7일동안에 btc 에 대해서 open, high, low, close,volume, 당일 시가, 고가,저가,종가,거래량에 대한 데이터라고 한다. \n",
    "df = pyupbit.get_ohlcv(\"KRW-BORA\",count =7)\n",
    "\n",
    "# 변동성 돌파 기준 범위 계산, (고가 - 저가) * k 값\n",
    "df['range'] = (df['high'] - df['low']) * 0.5\n",
    "\n",
    "# range 칼럼을 한칸씩 밑으로 내림(.shift(1))\n",
    "# open 은 시작가격, 시가를 의미한다. \n",
    "df['target'] = df['open'] + df['range'].shift(1)\n",
    "\n",
    "\n",
    "# 업비트에 있는 수수료\n",
    "fee = 0.05\n",
    "# np.where (조건문, 참일때 값, 거짓일 때 값)\n",
    "# 고가가 타겟값보다 높게 된다면 매수가 진행된다. \n",
    "# close/target 이 되면 수익률이 되는것이다.  \n",
    "# 만약에 매수가 진행되지 않게 되면 1 이 되는 것이다. \n",
    "df['ror'] = np.where(df['high'] > df['target'],\n",
    "                     df['close'] / df['target'] - fee,\n",
    "                     1)\n",
    "\n",
    "# 누적 곱 계산(cumprod) => 누적 수익률\n",
    "df['hpr'] = df['ror'].cumprod()\n",
    "\n",
    "# Draw Down 계산( 누적 최대 값과 현재 hpr 차이 / 누적 최대값 *100)\n",
    "df['dd'] = (df['hpr'].cummax() - df['hpr']) / df['hpr'].cummax() * 100\n",
    "\n",
    "# MDD 계산\n",
    "print(\"MDD(%): \", df['dd'].max())\n",
    "\n",
    "# 엑셀로 출력\n",
    "print(df)\n",
    "df.to_excel(\"backtesting_20220203.xlsx\")"
   ]
  },
  {
   "cell_type": "markdown",
   "id": "dad6fbb3",
   "metadata": {},
   "source": [
    "# 가장 좋은 K 값 구하기."
   ]
  },
  {
   "cell_type": "code",
   "execution_count": 11,
   "id": "083c0233",
   "metadata": {
    "ExecuteTime": {
     "end_time": "2022-02-03T05:46:35.263722Z",
     "start_time": "2022-02-03T05:46:34.603733Z"
    }
   },
   "outputs": [
    {
     "name": "stdout",
     "output_type": "stream",
     "text": [
      "0.1 0.762109\n",
      "0.2 0.738021\n",
      "0.3 0.839927\n",
      "0.4 0.831768\n",
      "0.5 0.940329\n",
      "0.6 1.000000\n",
      "0.7 1.000000\n",
      "0.8 1.000000\n",
      "0.9 1.000000\n"
     ]
    }
   ],
   "source": [
    "import pyupbit\n",
    "import numpy as np\n",
    "\n",
    "\n",
    "def get_ror(k=0.5):\n",
    "    df = pyupbit.get_ohlcv(\"KRW-BORA\",count =7)\n",
    "    df['range'] = (df['high'] - df['low']) * k\n",
    "    df['target'] = df['open'] + df['range'].shift(1)\n",
    "\n",
    "    fee = 0.05\n",
    "    df['ror'] = np.where(df['high'] > df['target'],\n",
    "                         df['close'] / df['target'] - fee,\n",
    "                         1)\n",
    "\n",
    "    ror = df['ror'].cumprod()[-2]\n",
    "    return ror\n",
    "\n",
    "\n",
    "for k in np.arange(0.1, 1.0, 0.1):\n",
    "    ror = get_ror(k)\n",
    "    print(\"%.1f %f\" % (k, ror))"
   ]
  },
  {
   "cell_type": "code",
   "execution_count": null,
   "id": "49db3cb8",
   "metadata": {},
   "outputs": [],
   "source": []
  }
 ],
 "metadata": {
  "kernelspec": {
   "display_name": "Python 3 (ipykernel)",
   "language": "python",
   "name": "python3"
  },
  "language_info": {
   "codemirror_mode": {
    "name": "ipython",
    "version": 3
   },
   "file_extension": ".py",
   "mimetype": "text/x-python",
   "name": "python",
   "nbconvert_exporter": "python",
   "pygments_lexer": "ipython3",
   "version": "3.9.9"
  },
  "toc": {
   "base_numbering": 1,
   "nav_menu": {},
   "number_sections": true,
   "sideBar": true,
   "skip_h1_title": false,
   "title_cell": "Table of Contents",
   "title_sidebar": "Contents",
   "toc_cell": false,
   "toc_position": {},
   "toc_section_display": true,
   "toc_window_display": false
  }
 },
 "nbformat": 4,
 "nbformat_minor": 5
}
