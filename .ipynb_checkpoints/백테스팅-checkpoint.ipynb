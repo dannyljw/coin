{
 "cells": [
  {
   "cell_type": "code",
   "execution_count": null,
   "id": "6bf39dc6",
   "metadata": {},
   "outputs": [],
   "source": [
    "import pyupbit\n",
    "import numpy as np\n",
    "\n",
    "df = pyupbit.get_ohlcv(\"BTC\")\n",
    "df['range'] = (df['high'] - df['low']) * 0.5\n",
    "df['target'] = df['open'] + df['range'].shift(1)\n",
    "\n",
    "fee = 0.05\n",
    "df['ror'] = np.where(df['high'] > df['target'],\n",
    "                     df['close'] / df['target'] - fee,\n",
    "                     1)\n",
    "\n",
    "df['hpr'] = df['ror'].cumprod()\n",
    "df['dd'] = (df['hpr'].cummax() - df['hpr']) / df['hpr'].cummax() * 100\n",
    "print(\"MDD(%): \", df['dd'].max())\n",
    "df.to_excel(\"dd.xlsx\")"
   ]
  }
 ],
 "metadata": {
  "kernelspec": {
   "display_name": "Python 3 (ipykernel)",
   "language": "python",
   "name": "python3"
  },
  "language_info": {
   "codemirror_mode": {
    "name": "ipython",
    "version": 3
   },
   "file_extension": ".py",
   "mimetype": "text/x-python",
   "name": "python",
   "nbconvert_exporter": "python",
   "pygments_lexer": "ipython3",
   "version": "3.9.9"
  },
  "toc": {
   "base_numbering": 1,
   "nav_menu": {},
   "number_sections": true,
   "sideBar": true,
   "skip_h1_title": false,
   "title_cell": "Table of Contents",
   "title_sidebar": "Contents",
   "toc_cell": false,
   "toc_position": {},
   "toc_section_display": true,
   "toc_window_display": false
  }
 },
 "nbformat": 4,
 "nbformat_minor": 5
}
